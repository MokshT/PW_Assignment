{
 "cells": [
  {
   "cell_type": "code",
   "execution_count": 1,
   "id": "01fc0c42-d6c4-4c89-aa24-fd32b8753cb7",
   "metadata": {},
   "outputs": [
    {
     "name": "stdout",
     "output_type": "stream",
     "text": [
      "Hello world\n"
     ]
    }
   ],
   "source": [
    "print(\"Hello world\");"
   ]
  },
  {
   "cell_type": "code",
   "execution_count": 2,
   "id": "97722254-633d-42d3-9be8-024479cb0a84",
   "metadata": {},
   "outputs": [],
   "source": [
    "a=3;\n"
   ]
  },
  {
   "cell_type": "code",
   "execution_count": 3,
   "id": "d0242306-3801-47bf-bae3-1b8df49adbd0",
   "metadata": {},
   "outputs": [
    {
     "data": {
      "text/plain": [
       "3"
      ]
     },
     "execution_count": 3,
     "metadata": {},
     "output_type": "execute_result"
    }
   ],
   "source": [
    "a"
   ]
  },
  {
   "cell_type": "raw",
   "id": "9ed03ec8-0161-4c45-8a04-923b51a36c8b",
   "metadata": {},
   "source": [
    "# variables/ identifiers >> placeholders where we keep variety of data\n",
    "which we can use to write logic\n",
    "numbers >> integers/float\n",
    "characters >> string in python\n",
    "true/false >> boolean\n",
    "none\n",
    "complex"
   ]
  },
  {
   "cell_type": "code",
   "execution_count": 5,
   "id": "a14ec15c-97cd-42d9-8f46-52abdced59cf",
   "metadata": {},
   "outputs": [],
   "source": [
    "b =3 "
   ]
  },
  {
   "cell_type": "code",
   "execution_count": 6,
   "id": "0cffc1e5-7fb9-4ea7-8db8-eaa9f1ca4c6a",
   "metadata": {},
   "outputs": [
    {
     "data": {
      "text/plain": [
       "3"
      ]
     },
     "execution_count": 6,
     "metadata": {},
     "output_type": "execute_result"
    }
   ],
   "source": [
    "b"
   ]
  },
  {
   "cell_type": "raw",
   "id": "2428a9c4-4341-4e3b-ba1c-778166e62ca0",
   "metadata": {},
   "source": [
    "variable is a reserved memory space for storing value"
   ]
  },
  {
   "cell_type": "code",
   "execution_count": 7,
   "id": "41178a50-f395-40b8-8cb2-c1b929ef8e98",
   "metadata": {},
   "outputs": [],
   "source": [
    "b = 4.5"
   ]
  },
  {
   "cell_type": "code",
   "execution_count": 8,
   "id": "4e938e73-84d1-43c8-871c-091ee359444a",
   "metadata": {},
   "outputs": [
    {
     "data": {
      "text/plain": [
       "4.5"
      ]
     },
     "execution_count": 8,
     "metadata": {},
     "output_type": "execute_result"
    }
   ],
   "source": [
    "b"
   ]
  },
  {
   "cell_type": "raw",
   "id": "091d4d13-2d5c-4069-89b5-7f22c17f8e03",
   "metadata": {},
   "source": [
    "a memory space will be created with value of the variable"
   ]
  },
  {
   "cell_type": "code",
   "execution_count": 9,
   "id": "9c181819-5190-4877-9acf-d98bff8e445d",
   "metadata": {},
   "outputs": [],
   "source": [
    "c = \"Moksh\""
   ]
  },
  {
   "cell_type": "code",
   "execution_count": 10,
   "id": "949cb245-2639-4839-bc2a-2c7e4cbf499c",
   "metadata": {},
   "outputs": [
    {
     "data": {
      "text/plain": [
       "'Moksh'"
      ]
     },
     "execution_count": 10,
     "metadata": {},
     "output_type": "execute_result"
    }
   ],
   "source": [
    "c"
   ]
  },
  {
   "cell_type": "code",
   "execution_count": 11,
   "id": "a22af931-a0f3-4a91-ac57-35d79af39f3b",
   "metadata": {},
   "outputs": [
    {
     "data": {
      "text/plain": [
       "str"
      ]
     },
     "execution_count": 11,
     "metadata": {},
     "output_type": "execute_result"
    }
   ],
   "source": [
    "type(c)"
   ]
  },
  {
   "cell_type": "code",
   "execution_count": 12,
   "id": "07646bc8-e388-460a-8186-f36fc1f85f02",
   "metadata": {},
   "outputs": [],
   "source": [
    "a = 3"
   ]
  },
  {
   "cell_type": "code",
   "execution_count": 13,
   "id": "118871c3-2f8b-4f8a-85ef-81ecadd6e3ec",
   "metadata": {},
   "outputs": [
    {
     "data": {
      "text/plain": [
       "int"
      ]
     },
     "execution_count": 13,
     "metadata": {},
     "output_type": "execute_result"
    }
   ],
   "source": [
    "type(a)"
   ]
  },
  {
   "cell_type": "code",
   "execution_count": 14,
   "id": "35998d55-4804-4ae7-892b-839c121d8088",
   "metadata": {},
   "outputs": [],
   "source": [
    "b = 4.5"
   ]
  },
  {
   "cell_type": "code",
   "execution_count": 16,
   "id": "221ad227-6162-43fe-86e4-945ea6e89846",
   "metadata": {},
   "outputs": [
    {
     "data": {
      "text/plain": [
       "float"
      ]
     },
     "execution_count": 16,
     "metadata": {},
     "output_type": "execute_result"
    }
   ],
   "source": [
    "type(b)"
   ]
  },
  {
   "cell_type": "code",
   "execution_count": 17,
   "id": "5f8ef499-68d9-486b-b351-cedb06211a54",
   "metadata": {},
   "outputs": [],
   "source": [
    "c = True"
   ]
  },
  {
   "cell_type": "code",
   "execution_count": 18,
   "id": "3dd50196-02f7-4376-9462-8e92478c9b91",
   "metadata": {},
   "outputs": [
    {
     "data": {
      "text/plain": [
       "bool"
      ]
     },
     "execution_count": 18,
     "metadata": {},
     "output_type": "execute_result"
    }
   ],
   "source": [
    "type(c)"
   ]
  },
  {
   "cell_type": "code",
   "execution_count": 20,
   "id": "fbba5161-fe6d-420f-8723-06d1546564aa",
   "metadata": {},
   "outputs": [],
   "source": [
    "d = False"
   ]
  },
  {
   "cell_type": "code",
   "execution_count": 21,
   "id": "77ac4087-13fb-4aec-b5e0-851324062195",
   "metadata": {},
   "outputs": [
    {
     "data": {
      "text/plain": [
       "bool"
      ]
     },
     "execution_count": 21,
     "metadata": {},
     "output_type": "execute_result"
    }
   ],
   "source": [
    "type(d)"
   ]
  },
  {
   "cell_type": "code",
   "execution_count": 22,
   "id": "88908e9d-8373-4515-9b82-e861a9410d20",
   "metadata": {},
   "outputs": [
    {
     "data": {
      "text/plain": [
       "1"
      ]
     },
     "execution_count": 22,
     "metadata": {},
     "output_type": "execute_result"
    }
   ],
   "source": [
    "True - False"
   ]
  },
  {
   "cell_type": "code",
   "execution_count": 23,
   "id": "da0afb74-509d-4987-b5a4-ab2ace32a22b",
   "metadata": {},
   "outputs": [
    {
     "data": {
      "text/plain": [
       "0"
      ]
     },
     "execution_count": 23,
     "metadata": {},
     "output_type": "execute_result"
    }
   ],
   "source": [
    "True * False"
   ]
  },
  {
   "cell_type": "code",
   "execution_count": 25,
   "id": "69ca1dda-08cc-4a3b-9ae3-40e1d21b5a74",
   "metadata": {},
   "outputs": [
    {
     "data": {
      "text/plain": [
       "0.0"
      ]
     },
     "execution_count": 25,
     "metadata": {},
     "output_type": "execute_result"
    }
   ],
   "source": [
    "False / True"
   ]
  },
  {
   "cell_type": "raw",
   "id": "fa8579a0-baf2-4d97-9a95-9fdd63d5c06c",
   "metadata": {},
   "source": [
    "True / False >> it will throw an error"
   ]
  },
  {
   "cell_type": "code",
   "execution_count": 27,
   "id": "d1707b74-8034-44db-9877-b468fd92349f",
   "metadata": {},
   "outputs": [
    {
     "data": {
      "text/plain": [
       "NoneType"
      ]
     },
     "execution_count": 27,
     "metadata": {},
     "output_type": "execute_result"
    }
   ],
   "source": [
    "f = None\n",
    "type(f)"
   ]
  },
  {
   "cell_type": "raw",
   "id": "249342a2-d8d9-43fa-af4a-b6490570f8f8",
   "metadata": {},
   "source": [
    "x+iy >> complex number"
   ]
  },
  {
   "cell_type": "code",
   "execution_count": 28,
   "id": "e14cf184-4385-47f0-bf96-30b22ec3f2f4",
   "metadata": {},
   "outputs": [],
   "source": [
    "com = 5+6j"
   ]
  },
  {
   "cell_type": "code",
   "execution_count": 29,
   "id": "886db8e7-fa2d-4bca-b897-63535e32f6b3",
   "metadata": {},
   "outputs": [
    {
     "data": {
      "text/plain": [
       "complex"
      ]
     },
     "execution_count": 29,
     "metadata": {},
     "output_type": "execute_result"
    }
   ],
   "source": [
    "type(com)"
   ]
  },
  {
   "cell_type": "code",
   "execution_count": 30,
   "id": "a8e64e42-ebde-4492-9eb8-ede98a1ecf35",
   "metadata": {},
   "outputs": [
    {
     "data": {
      "text/plain": [
       "5.0"
      ]
     },
     "execution_count": 30,
     "metadata": {},
     "output_type": "execute_result"
    }
   ],
   "source": [
    "com.real\n"
   ]
  },
  {
   "cell_type": "code",
   "execution_count": 31,
   "id": "f5e65ac6-e598-4774-b94e-ca04544b9103",
   "metadata": {},
   "outputs": [
    {
     "data": {
      "text/plain": [
       "6.0"
      ]
     },
     "execution_count": 31,
     "metadata": {},
     "output_type": "execute_result"
    }
   ],
   "source": [
    "com.imag"
   ]
  },
  {
   "cell_type": "raw",
   "id": "8f07fa50-350b-4f3d-8dd2-8c28cf2f0910",
   "metadata": {},
   "source": [
    "Rules of definiign a variable start with a letter(alphabet) or underscore xharacter"
   ]
  },
  {
   "cell_type": "code",
   "execution_count": null,
   "id": "21e51fc1-a63a-41da-b45b-10244a670f2f",
   "metadata": {},
   "outputs": [],
   "source": []
  }
 ],
 "metadata": {
  "kernelspec": {
   "display_name": "Python 3 (ipykernel)",
   "language": "python",
   "name": "python3"
  },
  "language_info": {
   "codemirror_mode": {
    "name": "ipython",
    "version": 3
   },
   "file_extension": ".py",
   "mimetype": "text/x-python",
   "name": "python",
   "nbconvert_exporter": "python",
   "pygments_lexer": "ipython3",
   "version": "3.10.8"
  }
 },
 "nbformat": 4,
 "nbformat_minor": 5
}
