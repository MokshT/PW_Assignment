{
  "nbformat": 4,
  "nbformat_minor": 0,
  "metadata": {
    "colab": {
      "provenance": [],
      "authorship_tag": "ABX9TyPd5azqoMjl1zKHlWCsal1b",
      "include_colab_link": true
    },
    "kernelspec": {
      "name": "python3",
      "display_name": "Python 3"
    },
    "language_info": {
      "name": "python"
    }
  },
  "cells": [
    {
      "cell_type": "markdown",
      "metadata": {
        "id": "view-in-github",
        "colab_type": "text"
      },
      "source": [
        "<a href=\"https://colab.research.google.com/github/MokshT/PW_Assignment/blob/main/pw_assignment_1.ipynb\" target=\"_parent\"><img src=\"https://colab.research.google.com/assets/colab-badge.svg\" alt=\"Open In Colab\"/></a>"
      ]
    },
    {
      "cell_type": "code",
      "execution_count": null,
      "metadata": {
        "id": "-1mbzdfWTqsi"
      },
      "outputs": [],
      "source": []
    },
    {
      "cell_type": "markdown",
      "source": [
        "1. Key Features of Python that Make it Popular for Programming\n",
        "Theory:\n",
        "Python is a widely popular programming language, particularly for beginners and professionals alike. Its key features include:\n",
        "\n",
        "Simplicity: Python’s syntax is straightforward, resembling plain English. This makes it easy to learn and read.\n",
        "Interpreted Language: Python executes code line-by-line, so there's no need to compile it. This helps in quick testing and debugging.\n",
        "Versatility: Python is used for web development, data science, automation, machine learning, etc.\n",
        "Extensive Libraries: Python has a vast collection of libraries, such as NumPy for scientific computing, Django for web development, and TensorFlow for machine learning.\n",
        "Cross-Platform Compatibility: Python runs on multiple platforms (Windows, macOS, Linux) without requiring changes to the code.\n",
        "Large Community Support: Python has a massive community that continuously improves the language, libraries, and documentation."
      ],
      "metadata": {
        "id": "KGcwKd6bUS23"
      }
    },
    {
      "cell_type": "code",
      "source": [
        "# Simplicity and readability\n",
        "name = \"Python\"\n",
        "print(f\"Hello, Moksh! Python is a simple and powerful language.\")\n"
      ],
      "metadata": {
        "colab": {
          "base_uri": "https://localhost:8080/"
        },
        "id": "8jkgaYZ1Udcp",
        "outputId": "71240a4b-0d6b-4180-9c2b-b9c2d1b987f4"
      },
      "execution_count": 1,
      "outputs": [
        {
          "output_type": "stream",
          "name": "stdout",
          "text": [
            "Hello, Moksh! Python is a simple and powerful language.\n"
          ]
        }
      ]
    },
    {
      "cell_type": "markdown",
      "source": [
        "2. Role of Predefined Keywords in Python\n",
        "Theory:\n",
        "Keywords in Python are reserved words that have specific meanings and purposes. These keywords cannot be used as variable names because they define the structure and flow of Python programs.\n",
        "\n",
        "Examples of Python keywords include:\n",
        "\n",
        "if, else: used for conditional statements.\n",
        "for, while: used for loops.\n",
        "def: used to define a function."
      ],
      "metadata": {
        "id": "XE1sVr59Ur-1"
      }
    },
    {
      "cell_type": "code",
      "source": [
        "# Using predefined keywords\n",
        "def greet(name):  # 'def' is a keyword to define a function\n",
        "    if name:      # 'if' is a keyword used for a condition\n",
        "        print(f\"Hello, {name}!\")\n",
        "    else:         # 'else' is a keyword to handle alternate case\n",
        "        print(\"Hello, World!\")\n",
        "\n",
        "greet(\"Moksh\")    # calling the function\n",
        "greet(\"\")         # demonstrating the else part\n"
      ],
      "metadata": {
        "colab": {
          "base_uri": "https://localhost:8080/"
        },
        "id": "V3HdxReOUzxE",
        "outputId": "0b28d02f-40ce-46ed-9a1f-989d73f8e6d8"
      },
      "execution_count": 2,
      "outputs": [
        {
          "output_type": "stream",
          "name": "stdout",
          "text": [
            "Hello, Moksh!\n",
            "Hello, World!\n"
          ]
        }
      ]
    },
    {
      "cell_type": "markdown",
      "source": [
        "3. Mutable vs Immutable Objects in Python\n",
        "Theory:\n",
        "Mutable Objects: These are objects whose values can be changed after they are created. Examples include lists and dictionaries.\n",
        "Immutable Objects: Once created, their values cannot be changed. Examples include strings, tuples, and integers."
      ],
      "metadata": {
        "id": "cW0ltz6FVEae"
      }
    },
    {
      "cell_type": "code",
      "source": [
        "# Mutable object: List\n",
        "mutable_list = [1, 2, 3]\n",
        "mutable_list[0] = 100  # Changing the first element\n",
        "print(\"Mutable List:\", mutable_list)\n",
        "\n",
        "# Immutable object: String\n",
        "immutable_string = \"Python\"\n",
        "# immutable_string[0] = \"J\"  # This would cause an error\n",
        "new_string = \"J\" + immutable_string[1:]  # Correct way to modify a string\n",
        "print(\"Immutable String:\", new_string)\n"
      ],
      "metadata": {
        "colab": {
          "base_uri": "https://localhost:8080/"
        },
        "id": "tEBya5hDVJfL",
        "outputId": "e5175825-2fb0-42cd-cc1c-d28408f0cddb"
      },
      "execution_count": 3,
      "outputs": [
        {
          "output_type": "stream",
          "name": "stdout",
          "text": [
            "Mutable List: [100, 2, 3]\n",
            "Immutable String: Jython\n"
          ]
        }
      ]
    },
    {
      "cell_type": "markdown",
      "source": [
        "4. Types of Operators in Python\n",
        "Theory:\n",
        "Python supports several types of operators:\n",
        "\n",
        "Arithmetic Operators: +, -, *, / (used for mathematical operations).\n",
        "Comparison Operators: ==, !=, <, > (used to compare values).\n",
        "Logical Operators: and, or, not (used for logical operations).\n",
        "Assignment Operators: =, +=, -=, etc. (used for assignment).\n",
        "Membership Operators: in, not in (used to check membership in sequences).\n"
      ],
      "metadata": {
        "id": "5AZVlhcIVdkS"
      }
    },
    {
      "cell_type": "code",
      "source": [
        "# Arithmetic Operators\n",
        "x, y = 5, 2\n",
        "print(f\"Addition: {x + y}, Multiplication: {x * y}\")\n",
        "\n",
        "# Comparison Operators\n",
        "print(\"Is x greater than y?\", x > y)\n",
        "\n",
        "# Logical Operators\n",
        "print(\"Logical AND (True and False):\", True and False)\n",
        "\n",
        "# Membership Operators\n",
        "lst = [1, 2, 3]\n",
        "print(\"Is 2 in the list?\", 2 in lst)\n"
      ],
      "metadata": {
        "colab": {
          "base_uri": "https://localhost:8080/"
        },
        "id": "DaovwkPqVkxl",
        "outputId": "050c9309-af55-466d-f367-917d4df5527b"
      },
      "execution_count": 8,
      "outputs": [
        {
          "output_type": "stream",
          "name": "stdout",
          "text": [
            "Addition: 7, Multiplication: 10\n",
            "Is x greater than y? True\n",
            "Logical AND (True and False): False\n",
            "Is 2 in the list? True\n"
          ]
        }
      ]
    },
    {
      "cell_type": "markdown",
      "source": [
        "5. Type Casting in Python\n",
        "Theory:\n",
        "Type casting refers to converting one data type into another. Python allows both implicit type conversion (done automatically) and explicit type conversion (done manually using functions like int(), str(), etc.)."
      ],
      "metadata": {
        "id": "7hhPf0e7V4nf"
      }
    },
    {
      "cell_type": "code",
      "source": [
        "# Implicit type conversion\n",
        "num_int = 10\n",
        "num_float = 3.14\n",
        "result = num_int + num_float  # Python automatically converts int to float\n",
        "print(\"Result after implicit conversion:\", result)\n",
        "\n",
        "# Explicit type conversion\n",
        "num_str = \"100\"\n",
        "num_int_explicit = int(num_str)  # Convert string to integer\n",
        "print(\"Explicit conversion from string to int:\", num_int_explicit + 50)\n"
      ],
      "metadata": {
        "colab": {
          "base_uri": "https://localhost:8080/"
        },
        "id": "3wu2gP4zV58j",
        "outputId": "528037c5-1a95-4f1b-a223-714dd122a07d"
      },
      "execution_count": 6,
      "outputs": [
        {
          "output_type": "stream",
          "name": "stdout",
          "text": [
            "Result after implicit conversion: 13.14\n",
            "Explicit conversion from string to int: {150}\n"
          ]
        }
      ]
    },
    {
      "cell_type": "markdown",
      "source": [
        "6. Conditional Statements in Python\n",
        "Theory:\n",
        "Conditional statements in Python control the flow of the program based on conditions. The most common are if, elif, and else.\n"
      ],
      "metadata": {
        "id": "H_xyWBg5WQaQ"
      }
    },
    {
      "cell_type": "code",
      "source": [
        "age = int (input (\"Enter your age: \"))\n",
        "\n",
        "if age < 18:\n",
        "    print(\"You are a minor.\")\n",
        "elif age == 18:\n",
        "    print(\"You just turned 18!\")\n",
        "else:\n",
        "    print(\"You are an adult.\")\n"
      ],
      "metadata": {
        "colab": {
          "base_uri": "https://localhost:8080/"
        },
        "id": "pUZyb48sWaDs",
        "outputId": "b006d6ed-e079-4880-aef5-9d0c4d84ef45"
      },
      "execution_count": 12,
      "outputs": [
        {
          "output_type": "stream",
          "name": "stdout",
          "text": [
            "Enter your age: 15\n",
            "You are a minor.\n"
          ]
        }
      ]
    },
    {
      "cell_type": "markdown",
      "source": [
        "7. Loops in Python\n",
        "Theory:\n",
        "Python has two main types of loops:\n",
        "\n",
        "For Loop: Iterates over a sequence like a list or string.\n",
        "While Loop: Repeats as long as a condition is true."
      ],
      "metadata": {
        "id": "lqcISs-PXVGL"
      }
    },
    {
      "cell_type": "code",
      "source": [
        "# For Loop\n",
        "for i in range(3):\n",
        "    print(f\"Iteration {i+1} in For Loop\")\n",
        "\n",
        "# While Loop\n",
        "counter = 3\n",
        "while counter > 0:\n",
        "    print(f\"Countdown: {counter}\")\n",
        "    counter -= 1\n"
      ],
      "metadata": {
        "colab": {
          "base_uri": "https://localhost:8080/"
        },
        "id": "e5CrCq0WXaI4",
        "outputId": "6223d32d-189c-4b9e-8b9e-fe2d40264724"
      },
      "execution_count": 13,
      "outputs": [
        {
          "output_type": "stream",
          "name": "stdout",
          "text": [
            "Iteration 1 in For Loop\n",
            "Iteration 2 in For Loop\n",
            "Iteration 3 in For Loop\n",
            "Countdown: 3\n",
            "Countdown: 2\n",
            "Countdown: 1\n"
          ]
        }
      ]
    }
  ]
}