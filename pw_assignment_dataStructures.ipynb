{
  "nbformat": 4,
  "nbformat_minor": 0,
  "metadata": {
    "colab": {
      "provenance": [],
      "authorship_tag": "ABX9TyOK1Oi7cS2j5a3L6s3dvGTI",
      "include_colab_link": true
    },
    "kernelspec": {
      "name": "python3",
      "display_name": "Python 3"
    },
    "language_info": {
      "name": "python"
    }
  },
  "cells": [
    {
      "cell_type": "markdown",
      "metadata": {
        "id": "view-in-github",
        "colab_type": "text"
      },
      "source": [
        "<a href=\"https://colab.research.google.com/github/MokshT/PW_Assignment/blob/main/pw_assignment_dataStructures.ipynb\" target=\"_parent\"><img src=\"https://colab.research.google.com/assets/colab-badge.svg\" alt=\"Open In Colab\"/></a>"
      ]
    },
    {
      "cell_type": "code",
      "execution_count": null,
      "metadata": {
        "id": "PcoM1gFV1WsD"
      },
      "outputs": [],
      "source": []
    },
    {
      "cell_type": "markdown",
      "source": [
        "1. String Slicing in Python\n",
        "Theory:\n",
        "String slicing is a technique to access a portion (substring) of a string. The syntax is:\n",
        "string[start:end:step]\n",
        "start: The index from where slicing begins.\n",
        "end: The index where slicing stops (not inclusive).\n",
        "step: The step size for slicing.\n",
        "If you omit start, it defaults to the beginning of the string. If you omit end, it defaults to the end of the string. The step determines how characters are skipped.\n",
        "\n"
      ],
      "metadata": {
        "id": "z0mcxmbp1uJK"
      }
    },
    {
      "cell_type": "code",
      "source": [
        "# Example of string slicing\n",
        "text = \"Hello, Python!\"\n",
        "\n",
        "# Slicing from index 0 to 5\n",
        "print(text[0:5])  # Output: Hello\n",
        "\n",
        "# Slicing from the beginning to index 4\n",
        "print(text[:5])  # Output: Hello\n",
        "\n",
        "# Slicing with step size\n",
        "print(text[::2])  # Output: Hlo yhn\n"
      ],
      "metadata": {
        "colab": {
          "base_uri": "https://localhost:8080/"
        },
        "id": "NttvOWTx18kO",
        "outputId": "ae46eeb3-6b58-4f78-d50d-8c78ca56773b"
      },
      "execution_count": null,
      "outputs": [
        {
          "output_type": "stream",
          "name": "stdout",
          "text": [
            "Hello\n",
            "Hello\n",
            "Hlo yhn\n"
          ]
        }
      ]
    },
    {
      "cell_type": "markdown",
      "source": [
        "2. Key Features of Lists in Python\n",
        "Theory:\n",
        "A list is an ordered, mutable, and dynamic collection of elements. Key features include:\n",
        "\n",
        "Ordered: Elements maintain the order in which they were added.\n",
        "Mutable: Elements can be modified after creation.\n",
        "Heterogeneous: Can contain elements of different data types.\n",
        "Dynamic: Lists can grow or shrink as needed."
      ],
      "metadata": {
        "id": "HPjGRn0z2f8h"
      }
    },
    {
      "cell_type": "code",
      "source": [
        "# Creating a list with different data types\n",
        "my_list = [1, \"Python\", 3.14, True]\n",
        "print(my_list)\n"
      ],
      "metadata": {
        "colab": {
          "base_uri": "https://localhost:8080/"
        },
        "id": "aEH9r_RT2j_d",
        "outputId": "250823e5-1458-4027-a300-017eabd41834"
      },
      "execution_count": null,
      "outputs": [
        {
          "output_type": "stream",
          "name": "stdout",
          "text": [
            "[1, 'Python', 3.14, True]\n"
          ]
        }
      ]
    },
    {
      "cell_type": "markdown",
      "source": [
        "3. Accessing, Modifying, and Deleting Elements in a List\n",
        "Theory:\n",
        "Accessing Elements: Elements in a list can be accessed using their index (list[index]).\n",
        "Modifying Elements: Lists are mutable, so you can modify elements by reassigning values.\n",
        "Deleting Elements: You can remove elements using methods like del, remove(), and pop()."
      ],
      "metadata": {
        "id": "SLvvfuDa2uUL"
      }
    },
    {
      "cell_type": "code",
      "source": [
        "# Accessing elements\n",
        "my_list = [1, 2, 3, 4]\n",
        "print(my_list[1])  # Output: 2\n",
        "\n",
        "# Modifying an element\n",
        "my_list[2] = 10\n",
        "print(my_list)  # Output: [1, 2, 10, 4]\n",
        "\n",
        "# Deleting an element by index\n",
        "del my_list[1]\n",
        "print(my_list)  # Output: [1, 10, 4]\n",
        "\n",
        "# Removing an element by value\n",
        "my_list.remove(10)\n",
        "print(my_list)  # Output: [1, 4]\n",
        "\n",
        "# Using pop to remove the last element\n",
        "my_list.pop()\n",
        "print(my_list)  # Output: [1]\n"
      ],
      "metadata": {
        "colab": {
          "base_uri": "https://localhost:8080/"
        },
        "id": "D6GMXccp2yqk",
        "outputId": "2469f7b5-e504-4162-89c4-a9266ee1d5c1"
      },
      "execution_count": null,
      "outputs": [
        {
          "output_type": "stream",
          "name": "stdout",
          "text": [
            "2\n",
            "[1, 2, 10, 4]\n",
            "[1, 10, 4]\n",
            "[1, 4]\n",
            "[1]\n"
          ]
        }
      ]
    },
    {
      "cell_type": "markdown",
      "source": [
        "4. Compare and Contrast Tuples and Lists\n",
        "Theory:\n",
        "List:\n",
        "\n",
        "Mutable: You can change, add, or remove elements.\n",
        "Dynamic size: Elements can be added or removed.\n",
        "Uses square brackets ([]).\n",
        "\n",
        "Tuple:\n",
        "Immutable: Once created, elements cannot be changed.\n",
        "Fixed size: Cannot add or remove elements after creation.\n",
        "Uses parentheses (())."
      ],
      "metadata": {
        "id": "vTDH3U7G26LD"
      }
    },
    {
      "cell_type": "code",
      "source": [
        "# List Example (Mutable)\n",
        "my_list = [1, 2, 3]\n",
        "my_list[0] = 10  # Modifying a list\n",
        "print(\"Modified List:\", my_list)\n",
        "\n",
        "# Tuple Example (Immutable)\n",
        "my_tuple = (1, 2, 3)\n",
        "# my_tuple[0] = 10  # This would raise an error since tuples are immutable\n",
        "print(\"Tuple:\", my_tuple)\n"
      ],
      "metadata": {
        "colab": {
          "base_uri": "https://localhost:8080/"
        },
        "id": "jCE7JAWf3F2I",
        "outputId": "c1beb214-3b64-4dac-d8b5-36b2d43746a4"
      },
      "execution_count": null,
      "outputs": [
        {
          "output_type": "stream",
          "name": "stdout",
          "text": [
            "Modified List: [10, 2, 3]\n",
            "Tuple: (1, 2, 3)\n"
          ]
        }
      ]
    },
    {
      "cell_type": "markdown",
      "source": [
        "5. Key Features of Sets in Python\n",
        "Theory:\n",
        "A set is an unordered collection of unique elements. Key features include:\n",
        "\n",
        "Unordered: Elements don’t have a specific order.\n",
        "Unique: Duplicate elements are not allowed.\n",
        "Mutable: Sets can be modified (elements can be added or removed).\n",
        "Efficient membership testing: Fast checks for element existence using in."
      ],
      "metadata": {
        "id": "QaJk_R8U3TFo"
      }
    },
    {
      "cell_type": "code",
      "source": [
        "# Creating a set\n",
        "my_set = {1, 2, 3, 4, 4}\n",
        "print(\"Set with unique elements:\", my_set)  # Duplicates are removed\n",
        "\n",
        "# Adding and removing elements\n",
        "my_set.add(5)\n",
        "my_set.remove(2)\n",
        "print(\"Modified Set:\", my_set)\n"
      ],
      "metadata": {
        "colab": {
          "base_uri": "https://localhost:8080/"
        },
        "id": "ZCRmofu13jK1",
        "outputId": "d416e2bb-1045-44e2-f292-6731cac55c9e"
      },
      "execution_count": null,
      "outputs": [
        {
          "output_type": "stream",
          "name": "stdout",
          "text": [
            "Set with unique elements: {1, 2, 3, 4}\n",
            "Modified Set: {1, 3, 4, 5}\n"
          ]
        }
      ]
    },
    {
      "cell_type": "markdown",
      "source": [
        "6. Use Cases of Tuples and Sets in Python\n",
        "Tuples:\n",
        "Fixed Data: Use tuples to store data that shouldn’t change (e.g., coordinates or configuration settings).\n",
        "Keys in Dictionaries: Since tuples are immutable, they can be used as dictionary keys.\n",
        "Sets:\n",
        "Unique Elements: Sets are used when you need to store unique items, such as in membership tests or removing duplicates from a list.\n",
        "Mathematical Operations: Sets support operations like union, intersection, and difference.\n"
      ],
      "metadata": {
        "id": "491oK0zy3xFU"
      }
    },
    {
      "cell_type": "code",
      "source": [
        "# Tuple Use Case: Fixed Data (e.g., Coordinates)\n",
        "coordinates = (10, 20)\n",
        "\n",
        "# Set Use Case: Removing duplicates\n",
        "num_list = [1, 2, 2, 3, 4]\n",
        "unique_numbers = set(num_list)\n",
        "print(\"Unique numbers:\", unique_numbers)\n"
      ],
      "metadata": {
        "colab": {
          "base_uri": "https://localhost:8080/"
        },
        "id": "2VLX3heF3yOg",
        "outputId": "0b81e7f4-83ea-430f-a268-b6f9fcc7f84e"
      },
      "execution_count": null,
      "outputs": [
        {
          "output_type": "stream",
          "name": "stdout",
          "text": [
            "Unique numbers: {1, 2, 3, 4}\n"
          ]
        }
      ]
    },
    {
      "cell_type": "markdown",
      "source": [
        "7. Adding, Modifying, and Deleting Items in a Dictionary\n",
        "Theory:\n",
        "A dictionary is a collection of key-value pairs. You can add, modify, and delete items in a dictionary:\n",
        "\n",
        "Add: Use dict[key] = value to add a new key-value pair.\n",
        "Modify: Update an existing key’s value using dict[key] = new_value.\n",
        "Delete: Remove an item using del dict[key] or pop(key)."
      ],
      "metadata": {
        "id": "gscQfaNs36B0"
      }
    },
    {
      "cell_type": "code",
      "source": [
        "# Creating a dictionary\n",
        "my_dict = {\"name\": \"Moksh\", \"age\": 21}\n",
        "\n",
        "# Adding a new key-value pair\n",
        "my_dict[\"city\"] = \"Jhansi\"\n",
        "print(\"Updated Dictionary:\", my_dict)\n",
        "\n",
        "# Modifying an existing value\n",
        "my_dict[\"age\"] = 22\n",
        "print(\"Modified Dictionary:\", my_dict)\n",
        "\n",
        "# Deleting a key-value pair\n",
        "del my_dict[\"city\"]\n",
        "print(\"Dictionary after deletion:\", my_dict)\n"
      ],
      "metadata": {
        "colab": {
          "base_uri": "https://localhost:8080/"
        },
        "id": "kRgydhHf4B3D",
        "outputId": "2eb60918-12ba-4af6-bf03-fc36a186d245"
      },
      "execution_count": null,
      "outputs": [
        {
          "output_type": "stream",
          "name": "stdout",
          "text": [
            "Updated Dictionary: {'name': 'Moksh', 'age': 21, 'city': 'Jhansi'}\n",
            "Modified Dictionary: {'name': 'Moksh', 'age': 22, 'city': 'Jhansi'}\n",
            "Dictionary after deletion: {'name': 'Moksh', 'age': 22}\n"
          ]
        }
      ]
    },
    {
      "cell_type": "markdown",
      "source": [
        "8. Importance of Dictionary Keys Being Immutable\n",
        "Theory:\n",
        "Dictionary keys in Python must be immutable because they are hashed to ensure fast lookups. Mutable types (like lists) can change, which would corrupt the hash table. Immutable types (like tuples, strings, and integers) ensure that the key’s value remains constant."
      ],
      "metadata": {
        "id": "mevUcgKS4OhZ"
      }
    },
    {
      "cell_type": "code",
      "source": [
        "# Example: Immutable dictionary keys\n",
        "my_dict = {\n",
        "    (1, 2): \"tuple as key\",  # Tuple (immutable) as a key\n",
        "    3: \"integer as key\",     # Integer (immutable) as a key\n",
        "}\n",
        "\n",
        "# Trying to use a list (mutable) as a key will raise an error\n",
        "# my_dict[[1, 2]] = \"list as key\"  # This would raise a TypeError\n",
        "print(\"Dictionary with valid keys:\", my_dict)\n"
      ],
      "metadata": {
        "colab": {
          "base_uri": "https://localhost:8080/"
        },
        "id": "J07cNHcH4QxU",
        "outputId": "72ec91d2-553f-44b5-e4e5-42e476a324ac"
      },
      "execution_count": null,
      "outputs": [
        {
          "output_type": "stream",
          "name": "stdout",
          "text": [
            "Dictionary with valid keys: {(1, 2): 'tuple as key', 3: 'integer as key'}\n"
          ]
        }
      ]
    }
  ]
}